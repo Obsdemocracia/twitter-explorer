{
 "cells": [
  {
   "cell_type": "code",
   "execution_count": 1,
   "metadata": {},
   "outputs": [],
   "source": [
    "import tweepy\n",
    "import json\n",
    "import pickle"
   ]
  },
  {
   "cell_type": "code",
   "execution_count": 2,
   "metadata": {},
   "outputs": [],
   "source": [
    "####input your credentials here\n",
    "APP_KEY3 = 'XXXXXX'\n",
    "APP_SECRET3 = 'XXX'\n",
    "OAUTH_TOKEN3 = 'XXX'\n",
    "OAUTH_TOKEN_SECRET3 ='XXXX'\n",
    "\n",
    "auth = tweepy.OAuthHandler(APP_KEY3, APP_SECRET3)\n",
    "auth.set_access_token(OAUTH_TOKEN3, OAUTH_TOKEN_SECRET3)\n",
    "api3 = tweepy.API(auth,wait_on_rate_limit=True,wait_on_rate_limit_notify=True)"
   ]
  },
  {
   "cell_type": "code",
   "execution_count": null,
   "metadata": {},
   "outputs": [],
   "source": [
    "tweets2=[]\n",
    "for tweet in tweepy.Cursor(api3.search,q=\"ivermectina\",count=100,\n",
    "                           lang=\"es\",tweet_mode='extended').items(100):\n",
    "    \n",
    "    tweets2.append(tweet)\n",
    "\n"
   ]
  },
  {
   "cell_type": "code",
   "execution_count": 5,
   "metadata": {},
   "outputs": [],
   "source": [
    "tweets2=[tweets2[i]._json for i in range(0,len(tweets2))]"
   ]
  },
  {
   "cell_type": "code",
   "execution_count": 12,
   "metadata": {},
   "outputs": [],
   "source": [
    "f = open(\"./tweets.pkl\",\"wb\")\n",
    "pickle.dump(tweets2,f)\n",
    "f.close()\n"
   ]
  }
 ],
 "metadata": {
  "kernelspec": {
   "display_name": "Python 3",
   "language": "python",
   "name": "python3"
  },
  "language_info": {
   "codemirror_mode": {
    "name": "ipython",
    "version": 3
   },
   "file_extension": ".py",
   "mimetype": "text/x-python",
   "name": "python",
   "nbconvert_exporter": "python",
   "pygments_lexer": "ipython3",
   "version": "3.7.4"
  }
 },
 "nbformat": 4,
 "nbformat_minor": 2
}
